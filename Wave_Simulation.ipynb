{
 "cells": [
  {
   "cell_type": "markdown",
   "metadata": {},
   "source": [
    "## Wave Simulation\n",
    "The wave equation is a second-order linear partial differential equation for the description of waves or standing wave fields such as mechanical waves (e.g. water waves, sound waves and seismic waves) or electromagnetic waves (including light waves). It arises in fields like acoustics, electromagnetism, and fluid dynamics.  \n",
    "\n",
    "The scalar wave equation is\n",
    "\n",
    "$$\\frac{\\partial^2 \\psi}{\\partial t^2} = c^2 \\nabla^2 \\psi$$\n",
    "\n",
    "where $\\nabla^2$ is the laplacian operation (the divergence of the gradient). More specifically, it can be written as the following in $n$ dimensions.\n",
    "\n",
    "$$\\nabla^2 \\psi = \\sum_{i=0}^n \\frac{\\partial^2 \\psi}{\\partial x_i^2}$$"
   ]
  }
 ],
 "metadata": {
  "language_info": {
   "name": "python"
  }
 },
 "nbformat": 4,
 "nbformat_minor": 2
}
